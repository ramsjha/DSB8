{
 "cells": [
  {
   "cell_type": "code",
   "execution_count": 2,
   "metadata": {},
   "outputs": [],
   "source": [
    "import numpy as np"
   ]
  },
  {
   "cell_type": "code",
   "execution_count": 10,
   "metadata": {},
   "outputs": [
    {
     "name": "stdout",
     "output_type": "stream",
     "text": [
      "<class 'numpy.ndarray'>\n",
      "[0 1 2 3 4 5 6 7 8 9]\n",
      "<class 'numpy.ndarray'>\n",
      "[0 1 2 3 4 5 6 7 8 9]\n"
     ]
    }
   ],
   "source": [
    "# Create a 1D array of numbers from 0 to 9.\n",
    "\n",
    "arr1 = np.array([0, 1, 2, 3, 4, 5, 6, 7, 8, 9])\n",
    "print(type(arr1))\n",
    "print(arr1)\n",
    "arr2 = np.arange(0, 10, 1)\n",
    "print(type(arr2))\n",
    "print(arr2)\n"
   ]
  },
  {
   "cell_type": "code",
   "execution_count": 10,
   "metadata": {},
   "outputs": [
    {
     "name": "stdout",
     "output_type": "stream",
     "text": [
      "[[ True  True  True]\n",
      " [ True  True  True]\n",
      " [ True  True  True]]\n"
     ]
    }
   ],
   "source": [
    "# Create a 3×3 numpy array of all True’s\n",
    "#numpy.ones((2, 2)) or numpy.zeros((2, 2)) This will give 0 or 1 so to convert we have to provide data type\n",
    "print(np.ones((3, 3), dtype=bool))"
   ]
  },
  {
   "cell_type": "code",
   "execution_count": 13,
   "metadata": {},
   "outputs": [
    {
     "data": {
      "text/plain": [
       "[1, 3, 5, 7, 9, 11]"
      ]
     },
     "execution_count": 13,
     "metadata": {},
     "output_type": "execute_result"
    }
   ],
   "source": [
    "# Given an array as input, print only odd numbers as output\n",
    "arr = np.arange(0, 12, 1)\n",
    "arr_temp = [arr[i] for i in arr if arr[i]%2!=0]\n",
    "arr_temp"
   ]
  },
  {
   "cell_type": "code",
   "execution_count": 16,
   "metadata": {},
   "outputs": [
    {
     "data": {
      "text/plain": [
       "array([ 0, -2,  2, -2,  4, -2,  6, -2,  8, -2])"
      ]
     },
     "execution_count": 16,
     "metadata": {},
     "output_type": "execute_result"
    }
   ],
   "source": [
    "# Replace all odd numbers in arr with -2\n",
    "arr3 = np.arange(0, 10, 1)\n",
    "np.where(arr3%2!=0, -2, arr3) "
   ]
  },
  {
   "cell_type": "code",
   "execution_count": 17,
   "metadata": {},
   "outputs": [
    {
     "data": {
      "text/plain": [
       "array([[0, 1, 2, 3, 4],\n",
       "       [5, 6, 7, 8, 9]])"
      ]
     },
     "execution_count": 17,
     "metadata": {},
     "output_type": "execute_result"
    }
   ],
   "source": [
    "# How to reshape an array?\n",
    "arr4 = np.arange(0, 10, 1)\n",
    "np.reshape(arr4,(2,5))"
   ]
  },
  {
   "cell_type": "code",
   "execution_count": 19,
   "metadata": {},
   "outputs": [
    {
     "data": {
      "text/plain": [
       "array([[0, 1, 2, 3, 4],\n",
       "       [5, 6, 7, 8, 9]])"
      ]
     },
     "execution_count": 19,
     "metadata": {},
     "output_type": "execute_result"
    }
   ],
   "source": [
    "# Convert a 1D array to a 2D array with 2 rows\n",
    "arr5 = np.arange(0, 10, 1)\n",
    "np.reshape(arr5,(2,-1))"
   ]
  },
  {
   "cell_type": "code",
   "execution_count": 30,
   "metadata": {},
   "outputs": [
    {
     "name": "stdout",
     "output_type": "stream",
     "text": [
      "<class 'numpy.ndarray'>\n",
      "<class 'numpy.ndarray'>\n"
     ]
    },
    {
     "data": {
      "text/plain": [
       "array([ 1,  3,  5,  7,  9,  4, 12, 20, 28, 36])"
      ]
     },
     "execution_count": 30,
     "metadata": {},
     "output_type": "execute_result"
    }
   ],
   "source": [
    "# Given an array  a  = [1,2,3,4,5,6,7,8,9] , create  new array b from a such that b includes all odd numbers and 4 multiples.\n",
    "a = np.arange(1, 10, 1)\n",
    "b1 = np.array([a[i-1]  for i in a if a[i-1]%2!=0])\n",
    "b2 = np.array([a[i-1]*4  for i in a if a[i-1]%2!=0])\n",
    "print(type(b1))\n",
    "print(type(b2))\n",
    "b = np.concatenate((b1,b2),axis=0)\n",
    "b"
   ]
  },
  {
   "cell_type": "code",
   "execution_count": 25,
   "metadata": {},
   "outputs": [
    {
     "data": {
      "text/plain": [
       "array([False, False, False,  True])"
      ]
     },
     "execution_count": 25,
     "metadata": {},
     "output_type": "execute_result"
    }
   ],
   "source": [
    "# Given array, check if there are any null values and print them out. \n",
    "arr6 = np.array([1,2,3,np.nan])\n",
    "np.isnan(arr6)"
   ]
  },
  {
   "cell_type": "code",
   "execution_count": 28,
   "metadata": {},
   "outputs": [
    {
     "data": {
      "text/plain": [
       "array([0., 1., 2., 3., 0.])"
      ]
     },
     "execution_count": 28,
     "metadata": {},
     "output_type": "execute_result"
    }
   ],
   "source": [
    "# How to replace all missing values with 0 in a numpy array?\n",
    "arr7 = np.array([np.nan,1,2,3,np.nan])\n",
    "np.nan_to_num(arr7) "
   ]
  },
  {
   "cell_type": "code",
   "execution_count": 33,
   "metadata": {},
   "outputs": [
    {
     "name": "stdout",
     "output_type": "stream",
     "text": [
      "[[1 2 3 4 5]\n",
      " [2 1 1 2 2]]\n"
     ]
    }
   ],
   "source": [
    "# How to find the count of each unique number in a NumPy array?\n",
    "a = np.array([1,1,2,3,4,4,5,5])\n",
    "c,d = np.unique(a,return_counts=True)\n",
    "print(np.asarray((c, d)))"
   ]
  },
  {
   "cell_type": "code",
   "execution_count": 39,
   "metadata": {},
   "outputs": [
    {
     "name": "stdout",
     "output_type": "stream",
     "text": [
      "<class 'numpy.ndarray'>\n",
      "[1.  2.  2.5]\n",
      "<class 'numpy.ndarray'>\n",
      "['1.0' '2.0' '2.5']\n"
     ]
    }
   ],
   "source": [
    "# How to convert a numeric to a categorical (text) array?\n",
    "x = np.array([1, 2, 2.5])\n",
    "print (type(x))\n",
    "print(x)\n",
    "y = x.astype(str)\n",
    "print(type(y))\n",
    "print(y)"
   ]
  },
  {
   "cell_type": "code",
   "execution_count": 55,
   "metadata": {},
   "outputs": [
    {
     "data": {
      "text/plain": [
       "array([100, 110, 112, 115, 119, 120, 125, 126, 130, 133, 135, 145, 147,\n",
       "       150, 154, 155, 160, 161, 165, 168, 170, 180, 182, 185, 189, 190,\n",
       "       195, 196, 200, 203, 205, 215, 217, 220, 224, 225, 230, 231, 235,\n",
       "       238, 240, 250, 252, 255, 259, 260, 265, 266, 270, 273, 275, 285,\n",
       "       287, 290, 294, 295])"
      ]
     },
     "execution_count": 55,
     "metadata": {},
     "output_type": "execute_result"
    }
   ],
   "source": [
    "# Write a program to print all numbers between 99 and 299 which are either divisible by 5 or 7. Exclude the elements which are divisible by both. \n",
    "arr = np.arange(99, 300, 1)\n",
    "t = np.array([arr[i-99] for i in arr if ((arr[i-99]%5==0 or arr[i-99]%7==0) and ((arr[i-99]%5 + arr[i-99]%7) !=0))])\n",
    "t"
   ]
  },
  {
   "cell_type": "code",
   "execution_count": 43,
   "metadata": {},
   "outputs": [
    {
     "name": "stdout",
     "output_type": "stream",
     "text": [
      "[1.  2.  2.5]\n"
     ]
    },
    {
     "data": {
      "text/plain": [
       "array([2.5, 2. , 1. ])"
      ]
     },
     "execution_count": 43,
     "metadata": {},
     "output_type": "execute_result"
    }
   ],
   "source": [
    "# Write a program to reverse an array and print (Don’t use inbuilt reverse functions)\n",
    "x = np.array([1, 2, 2.5])\n",
    "print(x)\n",
    "np.flip(x)\n"
   ]
  }
 ],
 "metadata": {
  "kernelspec": {
   "display_name": "Python 3",
   "language": "python",
   "name": "python3"
  },
  "language_info": {
   "codemirror_mode": {
    "name": "ipython",
    "version": 3
   },
   "file_extension": ".py",
   "mimetype": "text/x-python",
   "name": "python",
   "nbconvert_exporter": "python",
   "pygments_lexer": "ipython3",
   "version": "3.7.4"
  }
 },
 "nbformat": 4,
 "nbformat_minor": 2
}
