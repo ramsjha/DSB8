{
 "cells": [
  {
   "cell_type": "code",
   "execution_count": null,
   "metadata": {},
   "outputs": [],
   "source": [
    "********************************************************************************************************************************"
   ]
  },
  {
   "cell_type": "code",
   "execution_count": null,
   "metadata": {},
   "outputs": [],
   "source": [
    "# Assignment question on String\n",
    "# String is provided to do all below assignment\n",
    "str_text = \" I am very keen in building up my career in Data Science, but not sure from where to start. If I search the web it throws me thousands of articles, few are relevant others make me confused, again I come around to the same page. Supervised has provided me a good platform to remove all such qualms which were wrangling in my mind\""
   ]
  },
  {
   "cell_type": "code",
   "execution_count": null,
   "metadata": {},
   "outputs": [],
   "source": [
    "********************************************************************************************************************************"
   ]
  },
  {
   "cell_type": "code",
   "execution_count": 7,
   "metadata": {
    "scrolled": true
   },
   "outputs": [
    {
     "name": "stdout",
     "output_type": "stream",
     "text": [
      "sum of all word length in string :  265\n",
      "# of words in string :  63\n",
      "average length of word in string :  4.2063492063492065\n"
     ]
    }
   ],
   "source": [
    "#Consider the above text as a string, figure out the average length of the string.\n",
    "\n",
    "list_str = list(str_text.split())\n",
    "j = 0\n",
    "for i in list_str:\n",
    "    j=j+len(i)\n",
    "    \n",
    "print (\"sum of all word length in string : \",j)\n",
    "print (\"# of words in string : \", len(list_str))\n",
    "print (\"average length of word in string : \",j/len(list_str))"
   ]
  },
  {
   "cell_type": "code",
   "execution_count": 45,
   "metadata": {},
   "outputs": [
    {
     "name": "stdout",
     "output_type": "stream",
     "text": [
      "String in lower case :   i am very keen in building up my career in data science, but not sure from where to start. if i search the web it throws me thousands of articles, few are relevant others make me confused, again i come around to the same page. supervised has provided me a good platform to remove all such qualms which were wrangling in my mind\n"
     ]
    }
   ],
   "source": [
    "# Lower the text in the string.\n",
    "\n",
    "print (\"String in lower case : \",str_text.lower())"
   ]
  },
  {
   "cell_type": "code",
   "execution_count": 46,
   "metadata": {},
   "outputs": [
    {
     "name": "stdout",
     "output_type": "stream",
     "text": [
      "String without Punctuation :   I am very keen in building up my career in Data Science but not sure from where to start If I search the web it throws me thousands of articles few are relevant others make me confused again I come around to the same page Supervised has provided me a good platform to remove all such qualms which were wrangling in my mind\n"
     ]
    }
   ],
   "source": [
    "# Try to get the clean text removing the punctuation from the string.\n",
    "\n",
    "import string\n",
    "punc_list = set([i for i in str_text if i in string.punctuation])\n",
    "str_text_list = ['' if j in punc_list else j for j in list(str_text)]         \n",
    "str_text_without_punc = ''.join(str_text_list)\n",
    "print (\"String without Punctuation : \", str_text_without_punc)"
   ]
  },
  {
   "cell_type": "code",
   "execution_count": 48,
   "metadata": {},
   "outputs": [
    {
     "name": "stdout",
     "output_type": "stream",
     "text": [
      "Removed word Data Science from String :   I am very keen in building up my career in , but not sure from where to start. If I search the web it throws me thousands of articles, few are relevant others make me confused, again I come around to the same page. Supervised has provided me a good platform to remove all such qualms which were wrangling in my mind\n"
     ]
    }
   ],
   "source": [
    "# Extract word \"Data Science\" from the string.\n",
    "\n",
    "print (\"Removed word Data Science from String : \",str_text.replace(\"Data Science\",''))\n",
    "\n",
    "### String replacemenet need new variable after every action"
   ]
  },
  {
   "cell_type": "code",
   "execution_count": 80,
   "metadata": {},
   "outputs": [
    {
     "name": "stdout",
     "output_type": "stream",
     "text": [
      "frequency of words in string :  [('the', 2), ('throws', 1), ('articles', 1), ('building', 1), ('few', 1), ('my', 2), ('others', 1), ('again', 1), ('Supervised', 1), ('remove', 1), ('relevant', 1), ('page', 1), ('in', 3), ('such', 1), ('qualms', 1), ('platform', 1), ('am', 1), ('very', 1), ('career', 1), ('me', 3), ('around', 1), ('were', 1), ('wrangling', 1), ('to', 3), ('but', 1), ('thousands', 1), ('of', 1), ('make', 1), ('has', 1), ('come', 1), ('sure', 1), ('keen', 1), ('Science', 1), ('good', 1), ('start', 1), ('search', 1), ('web', 1), ('from', 1), ('same', 1), ('all', 1), ('up', 1), ('are', 1), ('confused', 1), ('not', 1), ('a', 1), ('where', 1), ('I', 3), ('it', 1), ('Data', 1), ('mind', 1), ('which', 1), ('If', 1), ('provided', 1)]\n"
     ]
    }
   ],
   "source": [
    "# Find the frequency of words used in the string.\n",
    "\n",
    "# first remove all punctuations from the text -- leverage str_text_without_punc\n",
    "# Get count of each distinct word\n",
    "str_text_dis_count = [(i,list(str_text_without_punc.split()).count(i)) for i in set(list(str_text_without_punc.split())) ]\n",
    "print (\"frequency of words in string : \",str_text_dis_count)\n",
    "\n",
    "### Explore more on sort vs sorted for sorting on 1st or 2nd element (explore lambda)"
   ]
  },
  {
   "cell_type": "code",
   "execution_count": 85,
   "metadata": {},
   "outputs": [
    {
     "name": "stdout",
     "output_type": "stream",
     "text": [
      "Duplicate pairs of words :  [('the', 2), ('my', 2), ('in', 3), ('me', 3), ('to', 3), ('I', 3)]\n"
     ]
    }
   ],
   "source": [
    "# Fetch the words which ocuured more than once.\n",
    "\n",
    "print (\"Duplicate pairs of words : \",[i for i in str_text_dis_count if i[1] > 1])"
   ]
  },
  {
   "cell_type": "code",
   "execution_count": 56,
   "metadata": {
    "scrolled": true
   },
   "outputs": [
    {
     "name": "stdout",
     "output_type": "stream",
     "text": [
      "Change word \"Supervised\" to \"Unsupervised\" :   I am very keen in building up my career in Data Science, but not sure from where to start. If I search the web it throws me thousands of articles, few are relevant others make me confused, again I come around to the same page. Unsupervised has provided me a good platform to remove all such qualms which were wrangling in my mind\n"
     ]
    }
   ],
   "source": [
    "# Can you change the word \"Supervised\" to \"Unsupervised\" in the string\n",
    "\n",
    "print (\"Change word \\\"Supervised\\\" to \\\"Unsupervised\\\" : \",str_text.replace(\"Supervised\",\"Unsupervised\"))"
   ]
  },
  {
   "cell_type": "code",
   "execution_count": 55,
   "metadata": {},
   "outputs": [
    {
     "name": "stdout",
     "output_type": "stream",
     "text": [
      "String splitted with a dot operator :  [' I am very keen in building up my career in Data Science, but not sure from where to start', ' If I search the web it throws me thousands of articles, few are relevant others make me confused, again I come around to the same page', ' Supervised has provided me a good platform to remove all such qualms which were wrangling in my mind']\n"
     ]
    }
   ],
   "source": [
    "# Splitting of the string with a dot operator(.)\n",
    "\n",
    "print (\"String splitted with a dot operator : \", list(str_text.split('.')))"
   ]
  },
  {
   "cell_type": "code",
   "execution_count": 86,
   "metadata": {},
   "outputs": [
    {
     "name": "stdout",
     "output_type": "stream",
     "text": [
      "Words ending with 'e' in String :  ['Science', 'sure', 'where', 'the', 'me', 'are', 'make', 'me', 'come', 'the', 'same', 'page', 'me', 'remove', 'were']\n"
     ]
    }
   ],
   "source": [
    "# Find the words from the string which ends with \"e\"\n",
    "\n",
    "# leverage string without punctuation\n",
    "#print (\"Words ending with \\'e\\' in String : \",[i for i in list(str_text_without_punc.split()) if list(i)[-1] == 'e'])\n",
    "print (\"Words ending with \\'e\\' in String : \",[i for i in list(str_text_without_punc.split()) if i.endswith('e')])"
   ]
  },
  {
   "cell_type": "code",
   "execution_count": 57,
   "metadata": {},
   "outputs": [
    {
     "name": "stdout",
     "output_type": "stream",
     "text": [
      "#'s of a's in String :  22\n"
     ]
    }
   ],
   "source": [
    "# Figure out number of a's used in the string\n",
    "j = 0\n",
    "for i in list(str_text):\n",
    "    if i == 'a':\n",
    "        j = j + 1\n",
    "\n",
    "print (\"#'s of a's in String : \", j)"
   ]
  },
  {
   "cell_type": "code",
   "execution_count": null,
   "metadata": {},
   "outputs": [],
   "source": [
    "********************************************************************************************************************************"
   ]
  },
  {
   "cell_type": "code",
   "execution_count": null,
   "metadata": {},
   "outputs": [],
   "source": [
    "# Assignment Questions on Dictionary\n",
    "# In the weekend , I purchased 250g of apple, 500g of sugar, 2.5 kg of rice, 2.5 litres of milk and finally 1 dozen of egg."
   ]
  },
  {
   "cell_type": "code",
   "execution_count": null,
   "metadata": {},
   "outputs": [],
   "source": [
    "********************************************************************************************************************************"
   ]
  },
  {
   "cell_type": "code",
   "execution_count": 153,
   "metadata": {},
   "outputs": [
    {
     "name": "stdout",
     "output_type": "stream",
     "text": [
      "{'apple': '0.250', 'sugar': '0.500', 'rice': '2.500', 'milk': '2.500', 'egg': '1'}\n"
     ]
    }
   ],
   "source": [
    "# Can you help me frame the above purchase in the form of dictionary with commodities as keys to it.\n",
    "grocery.clear()\n",
    "grocery = {\n",
    "    \"apple\" : \"0.250\",\n",
    "    \"sugar\" : \"0.500\",\n",
    "    \"rice\"  : \"2.500\",\n",
    "    \"milk\"  : \"2.500\",\n",
    "    \"egg\"   : \"1\"\n",
    "}\n",
    "print (grocery)"
   ]
  },
  {
   "cell_type": "code",
   "execution_count": 154,
   "metadata": {},
   "outputs": [
    {
     "name": "stdout",
     "output_type": "stream",
     "text": [
      "{'apple': '0.250', 'sugar': '0.500', 'rice': '2.500', 'milk': '2.500', 'egg': '1', 'atta': '1.000'}\n"
     ]
    }
   ],
   "source": [
    "# I forgot to mention another item, 1kg of atta packet. Can you also add it ?\n",
    "grocery[\"atta\"] = \"1.000\"\n",
    "print (grocery)"
   ]
  },
  {
   "cell_type": "code",
   "execution_count": 155,
   "metadata": {},
   "outputs": [
    {
     "name": "stdout",
     "output_type": "stream",
     "text": [
      "{'apple': '0.250', 'sugar': '0.500', 'rice': '1.000', 'milk': '2.500', 'egg': '1', 'atta': '1.000'}\n"
     ]
    }
   ],
   "source": [
    "# Instead of 2kg of rice, I bought only 1kg of rice. Can you change the corresponding value ?\n",
    "grocery[\"rice\"] = \"1.000\"\n",
    "print (grocery)"
   ]
  },
  {
   "cell_type": "code",
   "execution_count": 147,
   "metadata": {},
   "outputs": [
    {
     "name": "stdout",
     "output_type": "stream",
     "text": [
      "Grocery Item List :  apple\n",
      "Grocery Item List :  sugar\n",
      "Grocery Item List :  rice\n",
      "Grocery Item List :  milk\n",
      "Grocery Item List :  egg\n",
      "Grocery Item List :  atta\n",
      "Grocery Item List Values :  250g\n",
      "Grocery Item List Values :  500g\n",
      "Grocery Item List Values :  1Kg\n",
      "Grocery Item List Values :  2.5 litres\n",
      "Grocery Item List Values :  1 dozen\n",
      "Grocery Item List Values :  1Kg\n",
      "Grocery Item List & Values :  apple 250g\n",
      "Grocery Item List & Values :  sugar 500g\n",
      "Grocery Item List & Values :  rice 1Kg\n",
      "Grocery Item List & Values :  milk 2.5 litres\n",
      "Grocery Item List & Values :  egg 1 dozen\n",
      "Grocery Item List & Values :  atta 1Kg\n"
     ]
    }
   ],
   "source": [
    "# Can you list out all these items using a loop.\n",
    "for i in grocery:\n",
    "    print (\"Grocery Item List : \",i)\n",
    "\n",
    "for i in grocery:\n",
    "    print (\"Grocery Item List Values : \",grocery[i])\n",
    "\n",
    "for i,j in grocery.items():\n",
    "    print (\"Grocery Item List & Values : \",i,j)"
   ]
  },
  {
   "cell_type": "code",
   "execution_count": null,
   "metadata": {},
   "outputs": [],
   "source": [
    "********************************************************************************************************************************"
   ]
  },
  {
   "cell_type": "code",
   "execution_count": null,
   "metadata": {},
   "outputs": [],
   "source": [
    "# However, the cost of 1 kg apple is Rs.220, 1 kg of sugar is Rs.43, 1 Kg of rice is Rs. 45, 1 litre of milk is Rs.30 and 1 dozen of egg is Rs. 60."
   ]
  },
  {
   "cell_type": "code",
   "execution_count": null,
   "metadata": {},
   "outputs": [],
   "source": [
    "********************************************************************************************************************************"
   ]
  },
  {
   "cell_type": "code",
   "execution_count": 168,
   "metadata": {},
   "outputs": [
    {
     "name": "stdout",
     "output_type": "stream",
     "text": [
      "{'apple': 220, 'sugar': 43, 'rice': 45, 'milk': 30, 'egg': 60, 'atta': 50}\n"
     ]
    }
   ],
   "source": [
    "# Create another dictionary for pricing.\n",
    "grocery_price.clear()\n",
    "grocery_price = {\n",
    "    \"apple\" : 220,\n",
    "    \"sugar\" : 43,\n",
    "    \"rice\"  : 45,\n",
    "    \"milk\"  : 30,\n",
    "    \"egg\"   : 60,\n",
    "    \"atta\"  : 50\n",
    "}\n",
    "print(grocery_price)"
   ]
  },
  {
   "cell_type": "code",
   "execution_count": 170,
   "metadata": {},
   "outputs": [
    {
     "name": "stdout",
     "output_type": "stream",
     "text": [
      "Overall food cost :  306.5\n"
     ]
    }
   ],
   "source": [
    "# Thereby, prepare a bill for me of the overall cost of the total commodities purchased by using two dictionaries !\n",
    "sum_cost = 0 \n",
    "for i,j in grocery.items():\n",
    "    sum_cost = sum_cost + (float(j)*grocery_price[i])\n",
    "print (\"Overall food cost : \",sum_cost)"
   ]
  },
  {
   "cell_type": "code",
   "execution_count": null,
   "metadata": {},
   "outputs": [],
   "source": [
    "********************************************************************************************************************************"
   ]
  },
  {
   "cell_type": "code",
   "execution_count": 133,
   "metadata": {},
   "outputs": [],
   "source": [
    "# Assignment Questions on List\n",
    "# Listed are the top AI companies in world\n",
    "AI_Companies = ['Amazon','Facebook','HiSilicon','Google','Apple','Microsoft','SenseTime']"
   ]
  },
  {
   "cell_type": "code",
   "execution_count": null,
   "metadata": {},
   "outputs": [],
   "source": [
    "********************************************************************************************************************************"
   ]
  },
  {
   "cell_type": "code",
   "execution_count": 134,
   "metadata": {},
   "outputs": [
    {
     "name": "stdout",
     "output_type": "stream",
     "text": [
      "AI Companies in sorted order :  ['Amazon', 'Apple', 'Facebook', 'Google', 'HiSilicon', 'Microsoft', 'SenseTime']\n",
      "AI Companies in sorted order :  ['Amazon', 'Apple', 'Facebook', 'Google', 'HiSilicon', 'Microsoft', 'SenseTime']\n"
     ]
    }
   ],
   "source": [
    "# Sort the list in ascending order\n",
    "AI_Companies.sort()\n",
    "print (\"AI Companies in sorted order : \",AI_Companies)\n",
    "print (\"AI Companies in sorted order : \",sorted(AI_Companies))\n",
    "### sort does not return the sorted list; rather, it sorts the list in place. \"Sorted argument generate new list\""
   ]
  },
  {
   "cell_type": "code",
   "execution_count": 135,
   "metadata": {},
   "outputs": [
    {
     "name": "stdout",
     "output_type": "stream",
     "text": [
      "Appended list of element in list :  ['Amazon', 'Apple', 'Facebook', 'Google', 'HiSilicon', 'Microsoft', 'SenseTime', 'Nvidia', 'OpenAI', 'Qualcomm', 'Reliance']\n"
     ]
    }
   ],
   "source": [
    "# Add multiple companies at once 'Nvidia', 'OpenAI' , 'Qualcomm' and 'Reliance' to the list\n",
    "AI_Companies.append('Nvidia')\n",
    "AI_Companies.append('OpenAI')\n",
    "AI_Companies.append('Qualcomm')\n",
    "AI_Companies.append('Reliance')\n",
    "print (\"Appended list of element in list : \",AI_Companies)"
   ]
  },
  {
   "cell_type": "code",
   "execution_count": 136,
   "metadata": {},
   "outputs": [
    {
     "name": "stdout",
     "output_type": "stream",
     "text": [
      "List in lower case :  ['amazon', 'apple', 'facebook', 'google', 'hisilicon', 'microsoft', 'sensetime', 'nvidia', 'openai', 'qualcomm', 'reliance']\n"
     ]
    }
   ],
   "source": [
    "# Lower the list using List comprehension\n",
    "print (\"List in lower case : \",[i.lower() for i in AI_Companies])"
   ]
  },
  {
   "cell_type": "code",
   "execution_count": 137,
   "metadata": {},
   "outputs": [
    {
     "name": "stdout",
     "output_type": "stream",
     "text": [
      "Reliance\n"
     ]
    }
   ],
   "source": [
    "# Elimiate 'Reliance' from the list\n",
    "print (AI_Companies.pop())"
   ]
  },
  {
   "cell_type": "code",
   "execution_count": 112,
   "metadata": {},
   "outputs": [],
   "source": [
    "# Extract 'Facebook', 'Google' and 'Microsoft' using a single command"
   ]
  },
  {
   "cell_type": "code",
   "execution_count": 138,
   "metadata": {},
   "outputs": [
    {
     "name": "stdout",
     "output_type": "stream",
     "text": [
      "['Amazon', 'Apple', 'HiSilicon', 'SenseTime', 'Nvidia', 'OpenAI', 'Qualcomm']\n"
     ]
    }
   ],
   "source": [
    "AI_Companies = [i for i in AI_Companies if i not in (\"Facebook\", \"Google\", \"Microsoft\")]\n",
    "print (AI_Companies)"
   ]
  },
  {
   "cell_type": "code",
   "execution_count": null,
   "metadata": {},
   "outputs": [],
   "source": [
    "********************************************************************************************************************************"
   ]
  },
  {
   "cell_type": "code",
   "execution_count": null,
   "metadata": {},
   "outputs": [],
   "source": [
    "# Assignment Questions on Tuple"
   ]
  },
  {
   "cell_type": "code",
   "execution_count": null,
   "metadata": {},
   "outputs": [],
   "source": [
    "********************************************************************************************************************************"
   ]
  },
  {
   "cell_type": "code",
   "execution_count": 172,
   "metadata": {},
   "outputs": [
    {
     "name": "stdout",
     "output_type": "stream",
     "text": [
      "(220, 43, 45, 30, 60, 50)\n"
     ]
    }
   ],
   "source": [
    "# Consider the above standard price problem statement and place the prices in the form of the tuple\n",
    "grocery_price_tuple =(220, 43,45,30,60,50)\n",
    "print (\"grocery price in tuple : \",grocery_price_tuple)"
   ]
  },
  {
   "cell_type": "code",
   "execution_count": 182,
   "metadata": {},
   "outputs": [
    {
     "name": "stdout",
     "output_type": "stream",
     "text": [
      "Min of tuple grocery %s 30 and Max of tuple grocery %s 220\n"
     ]
    }
   ],
   "source": [
    "# Find out the min and max price among them.\n",
    "print (\"Min of tuple grocery %s\",min(grocery_price_tuple), \"and Max of tuple grocery %s\", max(grocery_price_tuple))"
   ]
  },
  {
   "cell_type": "code",
   "execution_count": 173,
   "metadata": {},
   "outputs": [
    {
     "name": "stdout",
     "output_type": "stream",
     "text": [
      "AI Comapnies in form of tuple :  ('Amazon', 'Apple', 'HiSilicon', 'SenseTime', 'Nvidia', 'OpenAI', 'Qualcomm')\n"
     ]
    }
   ],
   "source": [
    "# Also, convert the above \"AI_companies\" list to a tuple.\n",
    "AI_Companies_Tuple = tuple(AI_Companies)\n",
    "print (\"AI Comapnies in form of tuple : \",AI_Companies_Tuple)"
   ]
  },
  {
   "cell_type": "code",
   "execution_count": 174,
   "metadata": {},
   "outputs": [
    {
     "name": "stdout",
     "output_type": "stream",
     "text": [
      "Above two tuples in one :  (220, 43, 45, 30, 60, 50, 'Amazon', 'Apple', 'HiSilicon', 'SenseTime', 'Nvidia', 'OpenAI', 'Qualcomm')\n"
     ]
    }
   ],
   "source": [
    "# Combine two above tuples to a single tuple.\n",
    "print (\"Above two tuples in one : \",grocery_price_tuple + AI_Companies_Tuple)"
   ]
  },
  {
   "cell_type": "code",
   "execution_count": 181,
   "metadata": {},
   "outputs": [
    {
     "name": "stdout",
     "output_type": "stream",
     "text": [
      "Length of tuple grocery %s 6 and AI Comapnies %s 7\n"
     ]
    }
   ],
   "source": [
    "# Compare the length of two tuples.\n",
    "print (\"Length of tuple grocery %s\",len(grocery_price_tuple), \"and AI Comapnies %s\", len(AI_Companies_Tuple))"
   ]
  }
 ],
 "metadata": {
  "kernelspec": {
   "display_name": "Python 3",
   "language": "python",
   "name": "python3"
  },
  "language_info": {
   "codemirror_mode": {
    "name": "ipython",
    "version": 3
   },
   "file_extension": ".py",
   "mimetype": "text/x-python",
   "name": "python",
   "nbconvert_exporter": "python",
   "pygments_lexer": "ipython3",
   "version": "3.7.4"
  }
 },
 "nbformat": 4,
 "nbformat_minor": 2
}
